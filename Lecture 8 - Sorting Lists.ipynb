{
 "cells": [
  {
   "cell_type": "markdown",
   "metadata": {},
   "source": [
    "# Sorting lists"
   ]
  },
  {
   "cell_type": "markdown",
   "metadata": {},
   "source": [
    "Python provides a standard method for sorting a list, which is called, not surprisingly, sort."
   ]
  },
  {
   "cell_type": "markdown",
   "metadata": {},
   "source": [
    "## Sort method"
   ]
  },
  {
   "cell_type": "markdown",
   "metadata": {},
   "source": [
    "Let's see how sort behaves on a simple example:"
   ]
  },
  {
   "cell_type": "code",
   "execution_count": 1,
   "metadata": {},
   "outputs": [
    {
     "name": "stdout",
     "output_type": "stream",
     "text": [
      "before sort [8, 7, 4, 3, 2, 9, 1, 5, 6]\n",
      "after sorting [1, 2, 3, 4, 5, 6, 7, 8, 9]\n"
     ]
    }
   ],
   "source": [
    "list = [8, 7, 4, 3, 2, 9, 1, 5, 6]\n",
    "print('before sort', list)\n",
    "list.sort()\n",
    "print('after sorting', list)"
   ]
  },
  {
   "cell_type": "markdown",
   "metadata": {},
   "source": [
    "Here, with the <code>list.sort()</code> instruction, we find a case of a method call (here <code>sort</code>) on an object (here <code>list</code>).\n",
    "\n",
    "The first thing to notice is that the entry list has been modified, we say \"in place\", or even \"by side effect\". Let's see this under pythontutor:"
   ]
  },
  {
   "cell_type": "code",
   "execution_count": 2,
   "metadata": {},
   "outputs": [],
   "source": [
    "%load_ext ipythontutor"
   ]
  },
  {
   "cell_type": "code",
   "execution_count": 3,
   "metadata": {},
   "outputs": [
    {
     "data": {
      "application/vnd.jupyter.widget-view+json": {
       "model_id": "a26fdefc17444cb39f9058189a1036b9",
       "version_major": 2,
       "version_minor": 0
      },
      "text/plain": [
       "HTML(value='<style>#ipythontutor1 {transform: translate(-93px, -24px) scale(0.8);}</style><style>#ipythontutor…"
      ]
     },
     "metadata": {},
     "output_type": "display_data"
    }
   ],
   "source": [
    "%%ipythontutor height=200 ratio=0.8\n",
    "list = [3, 2, 9, 1]\n",
    "list.sort()"
   ]
  },
  {
   "cell_type": "markdown",
   "metadata": {},
   "source": [
    "We could have imagined that the input list remained unchanged, and that the sort method returns a sorted copy of the list, this is not the choice that was made, it saves memory allocations as much as possible and significantly speed up sorting."
   ]
  },
  {
   "cell_type": "markdown",
   "metadata": {},
   "source": [
    "## Sorted method"
   ]
  },
  {
   "cell_type": "markdown",
   "metadata": {},
   "source": [
    "If you need to sort on a copy of your list, the <code>sorted</code> function allows you to do so:"
   ]
  },
  {
   "cell_type": "code",
   "execution_count": 4,
   "metadata": {},
   "outputs": [
    {
     "data": {
      "application/vnd.jupyter.widget-view+json": {
       "model_id": "22bd43b31ad14eed992cb9246c2d59f1",
       "version_major": 2,
       "version_minor": 0
      },
      "text/plain": [
       "HTML(value='<style>#ipythontutor3 {transform: translate(-93px, -24px) scale(0.8);}</style><style>#ipythontutor…"
      ]
     },
     "metadata": {},
     "output_type": "display_data"
    }
   ],
   "source": [
    "%%ipythontutor height=200 ratio=0.8\n",
    "list1 = [3, 2, 9, 1]\n",
    "list2 = sorted(list1)"
   ]
  },
  {
   "cell_type": "markdown",
   "metadata": {},
   "source": [
    "## Descending sort"
   ]
  },
  {
   "cell_type": "markdown",
   "metadata": {},
   "source": [
    "Let's come back to the <code>sort</code> method and the sorting in place. By default the list is sorted in ascending order, if on the contrary you want the descending order, do like this:"
   ]
  },
  {
   "cell_type": "code",
   "execution_count": 5,
   "metadata": {},
   "outputs": [
    {
     "name": "stdout",
     "output_type": "stream",
     "text": [
      "befor [8, 7, 4, 3, 2, 9, 1, 5, 6]\n",
      "after [9, 8, 7, 6, 5, 4, 3, 2, 1]\n"
     ]
    }
   ],
   "source": [
    "list = [8, 7, 4, 3, 2, 9, 1, 5, 6]\n",
    "print('befor', list)\n",
    "list.sort(reverse=True)\n",
    "print('after', list)"
   ]
  },
  {
   "cell_type": "code",
   "execution_count": null,
   "metadata": {},
   "outputs": [],
   "source": []
  }
 ],
 "metadata": {
  "hide_input": false,
  "kernelspec": {
   "display_name": "Python 3",
   "language": "python",
   "name": "python3"
  },
  "language_info": {
   "codemirror_mode": {
    "name": "ipython",
    "version": 3
   },
   "file_extension": ".py",
   "mimetype": "text/x-python",
   "name": "python",
   "nbconvert_exporter": "python",
   "pygments_lexer": "ipython3",
   "version": "3.8.3"
  }
 },
 "nbformat": 4,
 "nbformat_minor": 4
}
