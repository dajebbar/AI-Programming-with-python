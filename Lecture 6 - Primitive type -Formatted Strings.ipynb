{
 "cells": [
  {
   "cell_type": "markdown",
   "metadata": {},
   "source": [
    "# Formatting strings"
   ]
  },
  {
   "cell_type": "markdown",
   "metadata": {},
   "source": [
    "Formatting is used to designate the tools that make it possible to obtain a detailed presentation of the results, whether this is to improve readability when addressing humans, or to respect the syntax of a tool to which we want to pass the data to further processing."
   ]
  },
  {
   "cell_type": "markdown",
   "metadata": {},
   "source": [
    "### The print function\n",
    "\n",
    "It performs summary formatting: it inserts a space between the values passed to it."
   ]
  },
  {
   "cell_type": "code",
   "execution_count": 1,
   "metadata": {},
   "outputs": [
    {
     "name": "stdout",
     "output_type": "stream",
     "text": [
      "1 a (12+4j)\n"
     ]
    }
   ],
   "source": [
    "print(1, 'a', 12 + 4j)"
   ]
  },
  {
   "cell_type": "markdown",
   "metadata": {},
   "source": [
    "The only notable subtlety about print is that by default it adds a line break at the end. To avoid this behavior, we can pass an end argument to the function, which will be inserted instead of the line break. So for example:"
   ]
  },
  {
   "cell_type": "code",
   "execution_count": 2,
   "metadata": {},
   "outputs": [
    {
     "name": "stdout",
     "output_type": "stream",
     "text": [
      "one single line\n"
     ]
    }
   ],
   "source": [
    "# a first line\n",
    "print (\"one\", \"single\", \"line\")"
   ]
  },
  {
   "cell_type": "code",
   "execution_count": 3,
   "metadata": {},
   "outputs": [
    {
     "name": "stdout",
     "output_type": "stream",
     "text": [
      "one otherline\n"
     ]
    }
   ],
   "source": [
    "# a second line in two calls to print\n",
    "print (\"one\", \"other\", end = '')\n",
    "print (\"line\")"
   ]
  },
  {
   "cell_type": "markdown",
   "metadata": {},
   "source": [
    "Note also that print is able to print any object. We have already done this with lists and tuples, here is for example a module:"
   ]
  },
  {
   "cell_type": "code",
   "execution_count": 4,
   "metadata": {},
   "outputs": [
    {
     "name": "stdout",
     "output_type": "stream",
     "text": [
      "the math module is <module 'math' from '/home/ehp/anaconda3/lib/python3.8/lib-dynload/math.cpython-38-x86_64-linux-gnu.so'>\n"
     ]
    }
   ],
   "source": [
    "# we can print for example a 'module' object\n",
    "import math\n",
    "\n",
    "print ('the math module is', math)"
   ]
  },
  {
   "cell_type": "markdown",
   "metadata": {},
   "source": [
    "Looking ahead a bit, here's how print presents class instances."
   ]
  },
  {
   "cell_type": "code",
   "execution_count": 5,
   "metadata": {},
   "outputs": [],
   "source": [
    "# to define the Person class\n",
    "class Person:\n",
    "     pass\n",
    "\n",
    "# and to create an instance of this class\n",
    "person = Person ()"
   ]
  },
  {
   "cell_type": "code",
   "execution_count": 6,
   "metadata": {},
   "outputs": [
    {
     "name": "stdout",
     "output_type": "stream",
     "text": [
      "<__main__.Person object at 0x7ff30424b490>\n"
     ]
    }
   ],
   "source": [
    "# this is how a class instance is displayed\n",
    "print (person)"
   ]
  },
  {
   "cell_type": "markdown",
   "metadata": {},
   "source": [
    "We quickly encounter the limits of print:\n",
    "- on the one hand, it may be necessary to format a character string without necessarily wanting to print it, or in any case not immediately;\n",
    "- on the other hand, the added spaces can be more harmful than useful;\n",
    "- finally, you may need to specify a number of significant digits, or to choose how to present a date.\n",
    "\n",
    "This is why it is more common to **format** strings - that is, to compute strings in memory, without necessarily printing them straight away, and this is what we will study in this add-on. ."
   ]
  },
  {
   "cell_type": "markdown",
   "metadata": {},
   "source": [
    "### The f-strings\n",
    "\n",
    "Since Python version 3.6, we can use f-strings, the first formatting mechanism we will study. It is the easiest and most enjoyable formatting mechanism to use.\n",
    "\n",
    "But first let's define some data to display:"
   ]
  },
  {
   "cell_type": "code",
   "execution_count": 7,
   "metadata": {},
   "outputs": [],
   "source": [
    "# give us some variables\n",
    "firstname, lastname, age = 'John', 'Dupont', 35"
   ]
  },
  {
   "cell_type": "markdown",
   "metadata": {},
   "source": [
    "You first notice that the string starts with f \", of course that's why it's called an f-string.\n",
    "\n",
    "We can of course add the f in front of all forms of strings, whether they start with 'or \"or' '' or\" \"\".\n",
    "\n",
    "Then you notice that the areas delimited between {} are replaced. The logic of an f-string is simply to think of the inside of a {} as Python code (an expression to be precise), to evaluate it, and to use the result to fill the {}.\n",
    "\n",
    "It means, in plain language, that I can do calculations inside {}."
   ]
  },
  {
   "cell_type": "code",
   "execution_count": 8,
   "metadata": {},
   "outputs": [
    {
     "data": {
      "text/plain": [
       "'in 10 years John will be 45 years'"
      ]
     },
     "execution_count": 8,
     "metadata": {},
     "output_type": "execute_result"
    }
   ],
   "source": [
    "# all expressions are allowed inside a {}\n",
    "f\"in 10 years {firstname} will be {age + 10} years\""
   ]
  },
  {
   "cell_type": "code",
   "execution_count": 9,
   "metadata": {},
   "outputs": [
    {
     "data": {
      "text/plain": [
       "'so far we have 3 notes'"
      ]
     },
     "execution_count": 9,
     "metadata": {},
     "output_type": "execute_result"
    }
   ],
   "source": [
    "# so we can also put function calls\n",
    "notes = [12, 15, 19]\n",
    "f\"so far we have {len (notes)} notes\""
   ]
  },
  {
   "cell_type": "markdown",
   "metadata": {},
   "source": [
    "We will stop there for the basic level part. We still have to study how each {} is formatted (for example how to choose the number of significant digits on a float), this point is explained below.\n",
    "\n",
    "As you can see, f-strings provide a very simple and expressive method of formatting data into strings. Let's say it again to be clear: an **f-string does not print**, so you have to pass it to print if printing is desired."
   ]
  },
  {
   "cell_type": "markdown",
   "metadata": {},
   "source": [
    "### The format method\n",
    "\n",
    "Before the introduction of f-strings, the recommended technique for formatting was to use the format method which is defined on str objects and which is used like this:"
   ]
  },
  {
   "cell_type": "code",
   "execution_count": 10,
   "metadata": {},
   "outputs": [
    {
     "data": {
      "text/plain": [
       "'John Dupont a 35 years old'"
      ]
     },
     "execution_count": 10,
     "metadata": {},
     "output_type": "execute_result"
    }
   ],
   "source": [
    "\"{} {} a {} years old\".format(firstname, lastname, age)"
   ]
  },
  {
   "cell_type": "markdown",
   "metadata": {},
   "source": [
    "In this simplest example, the data is displayed instead of the {}, in the order in which it is supplied.\n",
    "\n",
    "This is fine when there is little data. If subsequently we want to change the order, for example, of the surname and first name, we can of course exchange the order of the arguments passed to format, or even use the **positional binding**, like this:"
   ]
  },
  {
   "cell_type": "code",
   "execution_count": 11,
   "metadata": {},
   "outputs": [
    {
     "data": {
      "text/plain": [
       "'Dupont John a 35 years old'"
      ]
     },
     "execution_count": 11,
     "metadata": {},
     "output_type": "execute_result"
    }
   ],
   "source": [
    "\"{1} {0} a {2} years old\".format(firstname, lastname, age)"
   ]
  },
  {
   "cell_type": "markdown",
   "metadata": {},
   "source": [
    "In practice, however, this form is not very useful, we often prefer the **positional binding** which looks like this:"
   ]
  },
  {
   "cell_type": "code",
   "execution_count": 12,
   "metadata": {},
   "outputs": [
    {
     "data": {
      "text/plain": [
       "'John Dupont is 35 years old'"
      ]
     },
     "execution_count": 12,
     "metadata": {},
     "output_type": "execute_result"
    }
   ],
   "source": [
    "(\"{the_firstname} {the_name} is {the_age} years old\".\\\n",
    "format (the_name = lastname, the_firstname = firstname, the_age = age))"
   ]
  },
  {
   "cell_type": "code",
   "execution_count": null,
   "metadata": {},
   "outputs": [],
   "source": []
  }
 ],
 "metadata": {
  "hide_input": false,
  "kernelspec": {
   "display_name": "Python 3",
   "language": "python",
   "name": "python3"
  },
  "language_info": {
   "codemirror_mode": {
    "name": "ipython",
    "version": 3
   },
   "file_extension": ".py",
   "mimetype": "text/x-python",
   "name": "python",
   "nbconvert_exporter": "python",
   "pygments_lexer": "ipython3",
   "version": "3.8.3"
  }
 },
 "nbformat": 4,
 "nbformat_minor": 4
}
