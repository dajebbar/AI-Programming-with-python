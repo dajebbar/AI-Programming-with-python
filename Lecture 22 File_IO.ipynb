{
 "cells": [
  {
   "cell_type": "markdown",
   "metadata": {
    "colab_type": "text",
    "id": "OpiYbzc_-I9H"
   },
   "source": [
    "# FILE I/O"
   ]
  },
  {
   "cell_type": "code",
   "execution_count": 1,
   "metadata": {},
   "outputs": [
    {
     "data": {
      "image/jpeg": "[encoded data removed]",
      "text/html": [
       "\n",
       "        <iframe\n",
       "            width=\"900\"\n",
       "            height=\"400\"\n",
       "            src=\"https://www.youtube.com/embed/Uh2ebFW8OYM\"\n",
       "            frameborder=\"0\"\n",
       "            allowfullscreen\n",
       "        ></iframe>\n",
       "        "
      ],
      "text/plain": [
       "<IPython.lib.display.YouTubeVideo at 0x7fd43c6e41f0>"
      ]
     },
     "execution_count": 1,
     "metadata": {},
     "output_type": "execute_result"
    }
   ],
   "source": [
    "from IPython.display import YouTubeVideo\n",
    "YouTubeVideo('Uh2ebFW8OYM', width=900, height=400)"
   ]
  },
  {
   "cell_type": "markdown",
   "metadata": {
    "colab_type": "text",
    "id": "eEgVtQEi-I9I"
   },
   "source": [
    "File is a named location on disk to store related information. It is used to permanently store data in a non-volatile memory (e.g. hard disk).\n",
    "\n",
    "Since, random access memory (RAM) is volatile which loses its data when computer is turned off, we use files for future use of the data.\n",
    "\n",
    "When we want to read from or write to a file we need to open it first. When we are done, it needs to be closed, so that resources that are tied with the file are freed.\n",
    "\n",
    "File operation:\n",
    "\n",
    "1. Open a file\n",
    "\n",
    "2. Read or write (perform operation)\n",
    "\n",
    "3. Close the file"
   ]
  },
  {
   "cell_type": "markdown",
   "metadata": {
    "colab_type": "text",
    "id": "Yoz97zfk-I9J"
   },
   "source": [
    "# Opening a File"
   ]
  },
  {
   "cell_type": "markdown",
   "metadata": {
    "colab_type": "text",
    "id": "kKSic099-I9K"
   },
   "source": [
    "Python has a built-in function open() to open a file. This function returns a file object, also called a handle, as it is used to read or modify the file accordingly."
   ]
  },
  {
   "cell_type": "code",
   "execution_count": 0,
   "metadata": {
    "colab": {},
    "colab_type": "code",
    "id": "_Gdj7ZzH-I9L"
   },
   "outputs": [],
   "source": [
    "f = open('example.txt') #open file in current direcotry"
   ]
  },
  {
   "cell_type": "markdown",
   "metadata": {
    "colab_type": "text",
    "id": "lUwZz0B2-I9P"
   },
   "source": [
    "We can specify the mode while opening a file. In mode, we specify whether we want to read 'r', write 'w' or append 'a' to the file. We also specify if we want to open the file in text mode or binary mode."
   ]
  },
  {
   "cell_type": "markdown",
   "metadata": {
    "colab_type": "text",
    "id": "xS4zcuRQ-I9Q"
   },
   "source": [
    "# Python File Modes"
   ]
  },
  {
   "cell_type": "markdown",
   "metadata": {
    "colab_type": "text",
    "id": "Frkbet6C-I9R"
   },
   "source": [
    "'r' Open a file for reading. (default)\n",
    "\n",
    "'w' Open a file for writing. Creates a new file if it does not exist or truncates the file if it exists.\n",
    "\n",
    "'x' Open a file for exclusive creation. If the file already exists, the operation fails.\n",
    "\n",
    "'a' Open for appending at the end of the file without truncating it. Creates a new file if it does not exist.\n",
    "\n",
    "'t' Open in text mode. (default)\n",
    "\n",
    "'b' Open in binary mode.\n",
    "\n",
    "'+' Open a file for updating (reading and writing)"
   ]
  },
  {
   "cell_type": "code",
   "execution_count": 0,
   "metadata": {
    "colab": {},
    "colab_type": "code",
    "id": "9D2H7IkE-I9S"
   },
   "outputs": [],
   "source": [
    "f = open('example.txt') #equivalent to 'r' \n",
    "f = open('example.txt', 'r')\n",
    "\n",
    "f = open('test.txt', 'w')"
   ]
  },
  {
   "cell_type": "markdown",
   "metadata": {
    "colab_type": "text",
    "id": "Ns8S234S-I9V"
   },
   "source": [
    "The default encoding is platform dependent. In windows, it is 'cp1252' but 'utf-8' in Linux."
   ]
  },
  {
   "cell_type": "markdown",
   "metadata": {
    "colab_type": "text",
    "id": "RbXvbr2u-I9W"
   },
   "source": [
    "So, we must not also rely on the default encoding or else our code will behave differently in different platforms.\n",
    "\n",
    "Hence, when working with files in text mode, it is highly recommended to specify the encoding type."
   ]
  },
  {
   "cell_type": "markdown",
   "metadata": {
    "colab_type": "text",
    "id": "dQ-Q_7sM-I9X"
   },
   "source": [
    "# Closing a File"
   ]
  },
  {
   "cell_type": "markdown",
   "metadata": {
    "colab_type": "text",
    "id": "XPZWiNao-I9Y"
   },
   "source": [
    "Closing a file will free up the resources that were tied with the file and is done using the close() method.\n",
    "\n",
    "Python has a garbage collector to clean up unreferenced objects but, we must not rely on it to close the file."
   ]
  },
  {
   "cell_type": "code",
   "execution_count": 0,
   "metadata": {
    "colab": {},
    "colab_type": "code",
    "id": "EgFZBjcn-I9Y"
   },
   "outputs": [],
   "source": [
    "f = open('example.txt')\n",
    "f.close()"
   ]
  },
  {
   "cell_type": "markdown",
   "metadata": {
    "colab_type": "text",
    "id": "SuymHIy4-I9b"
   },
   "source": [
    "This method is not entirely safe. If an exception occurs when we are performing some operation with the file, the code exits without closing the file.\n",
    "\n",
    "A safer way is to use a try...finally block."
   ]
  },
  {
   "cell_type": "code",
   "execution_count": 0,
   "metadata": {
    "colab": {},
    "colab_type": "code",
    "id": "H40_LhQX-I9c"
   },
   "outputs": [],
   "source": [
    "try:\n",
    "   f = open(\"example.txt\")\n",
    "   # perform file operations\n",
    "    \n",
    "finally:\n",
    "   f.close()"
   ]
  },
  {
   "cell_type": "markdown",
   "metadata": {
    "colab_type": "text",
    "id": "6Yj2nnCF-I9g"
   },
   "source": [
    "This way, we are guaranteed that the file is properly closed even if an exception is raised, causing program flow to stop.\n",
    "\n",
    "The best way to do this is using the with statement. This ensures that the file is closed when the block inside with is exited.\n",
    "\n",
    "We don't need to explicitly call the close() method. It is done internally.\n",
    "\n",
    "with open(\"example.txt\",encoding = 'utf-8') as f:\n",
    "    #perform file operations"
   ]
  },
  {
   "cell_type": "markdown",
   "metadata": {
    "colab_type": "text",
    "id": "rT9YXHm5-I9h"
   },
   "source": [
    "# Writing to a File"
   ]
  },
  {
   "cell_type": "markdown",
   "metadata": {
    "colab_type": "text",
    "id": "7AcveWU--I9i"
   },
   "source": [
    "In order to write into a file we need to open it in **write 'w', append 'a' or exclusive creation 'x' mode**.\n",
    "\n",
    "We need to be careful with the 'w' mode as it will overwrite into the file if it already exists. All previous data are erased.\n",
    "\n",
    "Writing a string or sequence of bytes (for binary files) is done using **write()** method. This method returns the number of characters written to the file."
   ]
  },
  {
   "cell_type": "code",
   "execution_count": 0,
   "metadata": {
    "colab": {},
    "colab_type": "code",
    "id": "E7KJA608-I9j"
   },
   "outputs": [],
   "source": [
    "f = open(\"test.txt\", \"w\")\n",
    "f.write(\"This is a First File\\n\")\n",
    "f.write(\"Contains two lines\\n\")\n",
    "f.close()\n",
    "    \n",
    "    \n",
    "    "
   ]
  },
  {
   "cell_type": "markdown",
   "metadata": {
    "colab_type": "text",
    "id": "hMP_Q5Ky-I9m"
   },
   "source": [
    "This program will create a new file named 'test.txt' if it does not exist. If it does exist, it is overwritten.\n",
    "\n"
   ]
  },
  {
   "cell_type": "markdown",
   "metadata": {
    "colab_type": "text",
    "id": "XAsUdLy_-I9n"
   },
   "source": [
    "# Reading From a File"
   ]
  },
  {
   "cell_type": "markdown",
   "metadata": {
    "colab_type": "text",
    "id": "TaVBxHrK-I9o"
   },
   "source": [
    "There are various methods available for this purpose. We can use the read(size) method to read in size number of data. If size parameter is not specified, it reads and returns up to the end of the file."
   ]
  },
  {
   "cell_type": "code",
   "execution_count": 0,
   "metadata": {
    "colab": {},
    "colab_type": "code",
    "id": "ihVhH_Oz-I9p",
    "outputId": "7368bd94-ee13-4a46-89fa-965562e8ae34"
   },
   "outputs": [
    {
     "data": {
      "text/plain": [
       "'This is a First File\\nContains two lines\\n'"
      ]
     },
     "execution_count": 9,
     "metadata": {
      "tags": []
     },
     "output_type": "execute_result"
    }
   ],
   "source": [
    "f = open(\"test.txt\", \"r\")\n",
    "f.read()"
   ]
  },
  {
   "cell_type": "code",
   "execution_count": 0,
   "metadata": {
    "colab": {},
    "colab_type": "code",
    "id": "uwhOZMfz-I9u",
    "outputId": "a9d0bdcc-b6ee-43b4-f92e-106354ff4cb1"
   },
   "outputs": [
    {
     "data": {
      "text/plain": [
       "'This'"
      ]
     },
     "execution_count": 13,
     "metadata": {
      "tags": []
     },
     "output_type": "execute_result"
    }
   ],
   "source": [
    "f = open(\"test.txt\", \"r\")\n",
    "f.read(4)"
   ]
  },
  {
   "cell_type": "code",
   "execution_count": 0,
   "metadata": {
    "colab": {},
    "colab_type": "code",
    "id": "EOJUJpMs-I9x",
    "outputId": "5eae6dbf-39b9-4b87-f5e0-156c6f283ab2"
   },
   "outputs": [
    {
     "data": {
      "text/plain": [
       "' is a Firs'"
      ]
     },
     "execution_count": 14,
     "metadata": {
      "tags": []
     },
     "output_type": "execute_result"
    }
   ],
   "source": [
    "#f = open(\"test.txt\",\"r\")\n",
    "f.read(10)"
   ]
  },
  {
   "cell_type": "markdown",
   "metadata": {
    "colab_type": "text",
    "id": "gucrvSrD-I90"
   },
   "source": [
    "We can change our current file cursor (position) using the seek() method. \n",
    "\n",
    "Similarly, the **tell()** method returns our current position (in number of bytes)."
   ]
  },
  {
   "cell_type": "code",
   "execution_count": 0,
   "metadata": {
    "colab": {},
    "colab_type": "code",
    "id": "N6Va2QEe-I91",
    "outputId": "d4ffe3ad-0ff6-4134-ecd7-ca39bfebad2c"
   },
   "outputs": [
    {
     "data": {
      "text/plain": [
       "14"
      ]
     },
     "execution_count": 15,
     "metadata": {
      "tags": []
     },
     "output_type": "execute_result"
    }
   ],
   "source": [
    "f.tell()"
   ]
  },
  {
   "cell_type": "code",
   "execution_count": 0,
   "metadata": {
    "colab": {},
    "colab_type": "code",
    "id": "R_yQsOIi-I95",
    "outputId": "74d02e31-16bd-4167-bc1a-7790aac733e4"
   },
   "outputs": [
    {
     "data": {
      "text/plain": [
       "0"
      ]
     },
     "execution_count": 16,
     "metadata": {
      "tags": []
     },
     "output_type": "execute_result"
    }
   ],
   "source": [
    "f.seek(0) #bring the file cursor to initial position"
   ]
  },
  {
   "cell_type": "code",
   "execution_count": 0,
   "metadata": {
    "colab": {},
    "colab_type": "code",
    "id": "2lLZksIh-I9-",
    "outputId": "7bed4899-d0e2-4eca-df4a-848546fb44c4"
   },
   "outputs": [
    {
     "name": "stdout",
     "output_type": "stream",
     "text": [
      "This is a First File\n",
      "Contains two lines\n",
      "\n"
     ]
    }
   ],
   "source": [
    "print(f.read()) #read the entire file"
   ]
  },
  {
   "cell_type": "markdown",
   "metadata": {
    "colab_type": "text",
    "id": "6zmCZQeL-I-D"
   },
   "source": [
    "We can read a file line-by-line using a for loop. This is both efficient and fast."
   ]
  },
  {
   "cell_type": "code",
   "execution_count": 0,
   "metadata": {
    "colab": {},
    "colab_type": "code",
    "id": "QkI5JefZ-I-E",
    "outputId": "4374d164-fa1c-4535-963d-d0df38322a37"
   },
   "outputs": [
    {
     "name": "stdout",
     "output_type": "stream",
     "text": [
      "This is a First File\n",
      "\n",
      "Contains two lines\n",
      "\n"
     ]
    }
   ],
   "source": [
    "f.seek(0)\n",
    "for line in f:\n",
    "    print(line)"
   ]
  },
  {
   "cell_type": "markdown",
   "metadata": {
    "colab_type": "text",
    "id": "uQnQGQII-I-H"
   },
   "source": [
    "Alternately, we can use readline() method to read individual lines of a file. This method reads a file till the newline, including the newline character."
   ]
  },
  {
   "cell_type": "code",
   "execution_count": 0,
   "metadata": {
    "colab": {},
    "colab_type": "code",
    "id": "Mx_WsZ16-I-I",
    "outputId": "ebf72fe4-441e-421f-8ef4-6b0893edd36d"
   },
   "outputs": [
    {
     "data": {
      "text/plain": [
       "'This is a First File\\n'"
      ]
     },
     "execution_count": 19,
     "metadata": {
      "tags": []
     },
     "output_type": "execute_result"
    }
   ],
   "source": [
    "f = open(\"test.txt\", \"r\")\n",
    "f.readline()"
   ]
  },
  {
   "cell_type": "code",
   "execution_count": 0,
   "metadata": {
    "colab": {},
    "colab_type": "code",
    "id": "E8cmYnsB-I-L",
    "outputId": "48f1f5f3-0aee-46ca-be59-792fd827b022",
    "scrolled": true
   },
   "outputs": [
    {
     "data": {
      "text/plain": [
       "'Contains two lines\\n'"
      ]
     },
     "execution_count": 20,
     "metadata": {
      "tags": []
     },
     "output_type": "execute_result"
    }
   ],
   "source": [
    "f.readline()"
   ]
  },
  {
   "cell_type": "code",
   "execution_count": 0,
   "metadata": {
    "colab": {},
    "colab_type": "code",
    "id": "Fwbrlu2D-I-O",
    "outputId": "4b67f2ff-2d62-4d6e-a14b-26ac112d1cb0"
   },
   "outputs": [
    {
     "data": {
      "text/plain": [
       "''"
      ]
     },
     "execution_count": 21,
     "metadata": {
      "tags": []
     },
     "output_type": "execute_result"
    }
   ],
   "source": [
    "f.readline()"
   ]
  },
  {
   "cell_type": "markdown",
   "metadata": {
    "colab_type": "text",
    "id": "dkZ4bgQE-I-S"
   },
   "source": [
    "The **readlines()** method returns a list of remaining lines of the entire file. All these reading method return empty values when end of file (EOF) is reached."
   ]
  },
  {
   "cell_type": "code",
   "execution_count": 0,
   "metadata": {
    "colab": {},
    "colab_type": "code",
    "id": "hDxyjanv-I-T",
    "outputId": "30f803c6-1211-49a5-e0b3-3c5c1c06402b"
   },
   "outputs": [
    {
     "data": {
      "text/plain": [
       "['This is a First File\\n', 'Contains two lines\\n']"
      ]
     },
     "execution_count": 22,
     "metadata": {
      "tags": []
     },
     "output_type": "execute_result"
    }
   ],
   "source": [
    "f.seek(0)\n",
    "f.readlines()"
   ]
  },
  {
   "cell_type": "markdown",
   "metadata": {
    "colab_type": "text",
    "id": "CHI64VRI-I-W"
   },
   "source": [
    "# Renaming And Deleting Files In Python."
   ]
  },
  {
   "cell_type": "markdown",
   "metadata": {
    "colab_type": "text",
    "id": "ddW_Trga-I-X"
   },
   "source": [
    "While you were using the **read/write** functions, you may also need to **rename/delete** a file in Python. So, there comes a **os** module in Python which brings the support of file **rename/delete** operations.\n",
    "\n",
    "So, to continue, first of all, you should import the **os** module in your Python script."
   ]
  },
  {
   "cell_type": "code",
   "execution_count": 0,
   "metadata": {
    "colab": {},
    "colab_type": "code",
    "collapsed": true,
    "id": "-91N_Ly9-I-Y"
   },
   "outputs": [],
   "source": [
    "import os\n",
    "\n",
    "#Rename a file from test.txt to sample.txt\n",
    "os.rename(\"test.txt\", \"sample.txt\")"
   ]
  },
  {
   "cell_type": "code",
   "execution_count": 0,
   "metadata": {
    "colab": {},
    "colab_type": "code",
    "id": "ksKnCMAs-I-b",
    "outputId": "4150955e-79f1-47a7-f4de-0e6640e34eb4"
   },
   "outputs": [
    {
     "data": {
      "text/plain": [
       "'This is a First File\\n'"
      ]
     },
     "execution_count": 18,
     "metadata": {
      "tags": []
     },
     "output_type": "execute_result"
    }
   ],
   "source": [
    "f = open(\"sample.txt\", \"r\")\n",
    "f.readline()"
   ]
  },
  {
   "cell_type": "code",
   "execution_count": 0,
   "metadata": {
    "colab": {},
    "colab_type": "code",
    "collapsed": true,
    "id": "95_26jr0-I-f"
   },
   "outputs": [],
   "source": [
    "#Delete a file sample.txt\n",
    "os.remove(\"sample.txt\")"
   ]
  },
  {
   "cell_type": "code",
   "execution_count": 0,
   "metadata": {
    "colab": {},
    "colab_type": "code",
    "id": "v2kTYfUY-I-i",
    "outputId": "ff636751-b0ca-4b81-efb0-05b0896c9d57"
   },
   "outputs": [
    {
     "ename": "FileNotFoundError",
     "evalue": "[Errno 2] No such file or directory: 'sample.txt'",
     "output_type": "error",
     "traceback": [
      "\u001b[0;31m---------------------------------------------------------------------------\u001b[0m",
      "\u001b[0;31mFileNotFoundError\u001b[0m                         Traceback (most recent call last)",
      "\u001b[0;32m<ipython-input-25-6eeb6c12a935>\u001b[0m in \u001b[0;36m<module>\u001b[0;34m()\u001b[0m\n\u001b[0;32m----> 1\u001b[0;31m \u001b[0mf\u001b[0m \u001b[0;34m=\u001b[0m \u001b[0mopen\u001b[0m\u001b[0;34m(\u001b[0m\u001b[0;34m\"sample.txt\"\u001b[0m\u001b[0;34m,\u001b[0m \u001b[0;34m\"r\"\u001b[0m\u001b[0;34m)\u001b[0m\u001b[0;34m\u001b[0m\u001b[0m\n\u001b[0m\u001b[1;32m      2\u001b[0m \u001b[0mf\u001b[0m\u001b[0;34m.\u001b[0m\u001b[0mreadline\u001b[0m\u001b[0;34m(\u001b[0m\u001b[0;34m)\u001b[0m\u001b[0;34m\u001b[0m\u001b[0m\n",
      "\u001b[0;31mFileNotFoundError\u001b[0m: [Errno 2] No such file or directory: 'sample.txt'"
     ]
    }
   ],
   "source": [
    "f = open(\"sample.txt\", \"r\")\n",
    "f.readline()"
   ]
  },
  {
   "cell_type": "markdown",
   "metadata": {
    "colab": {},
    "colab_type": "code",
    "collapsed": true,
    "id": "n8QPzT6a-I_M"
   },
   "source": [
    "## A context manager"
   ]
  },
  {
   "cell_type": "code",
   "execution_count": null,
   "metadata": {},
   "outputs": [],
   "source": [
    "# with a `with 'we guarantee the closing of the file\n",
    "with open(\"foo.txt\", \"w\", encoding='utf-8') as sortie:\n",
    "    for i in range(2):\n",
    "        sortie.write(f\"{i}\\n\")"
   ]
  },
  {
   "cell_type": "code",
   "execution_count": null,
   "metadata": {},
   "outputs": [],
   "source": []
  }
 ],
 "metadata": {
  "colab": {
   "name": "File_IO.ipynb",
   "provenance": [],
   "version": "0.3.2"
  },
  "hide_input": false,
  "kernelspec": {
   "display_name": "Python 3",
   "language": "python",
   "name": "python3"
  },
  "language_info": {
   "codemirror_mode": {
    "name": "ipython",
    "version": 3
   },
   "file_extension": ".py",
   "mimetype": "text/x-python",
   "name": "python",
   "nbconvert_exporter": "python",
   "pygments_lexer": "ipython3",
   "version": "3.8.3"
  }
 },
 "nbformat": 4,
 "nbformat_minor": 1
}
