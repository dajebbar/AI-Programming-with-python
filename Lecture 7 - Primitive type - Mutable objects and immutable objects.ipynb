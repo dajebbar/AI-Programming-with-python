{
 "cells": [
  {
   "cell_type": "markdown",
   "metadata": {},
   "source": [
    "# Mutable objects and immutable objects"
   ]
  },
  {
   "cell_type": "markdown",
   "metadata": {},
   "source": [
    "## Strings are immutable objects"
   ]
  },
  {
   "cell_type": "markdown",
   "metadata": {},
   "source": [
    "Here is an example of a code snippet that illustrates the immutable character of strings, to illustrate the relationships between variables and objects."
   ]
  },
  {
   "cell_type": "markdown",
   "metadata": {},
   "source": [
    "**Note**: You can install ipytontutor typing:<br>\n",
    "pip3 install ipythontutor<br>\n",
    "in your command shell"
   ]
  },
  {
   "cell_type": "code",
   "execution_count": 1,
   "metadata": {},
   "outputs": [],
   "source": [
    "# you need to load this cell\n",
    "# to be able to use the following\n",
    "%load_ext ipythontutor"
   ]
  },
  {
   "cell_type": "markdown",
   "metadata": {},
   "source": [
    "The scenario is very simple, we create two variables s1 and s2 towards the same object 'abc', then we do a + = operation on the variable s1.\n",
    "\n",
    "As the object is a string, it is therefore immutable, we cannot **modify the object** directly; to achieve the desired effect (i.e. that s1 is extended by 'def'), Python **creates a second object**, as we can see under pythontutor:"
   ]
  },
  {
   "cell_type": "code",
   "execution_count": 2,
   "metadata": {},
   "outputs": [
    {
     "data": {
      "application/vnd.jupyter.widget-view+json": {
       "model_id": "0c79a2afa2a74aec9caa29f8b012df58",
       "version_major": 2,
       "version_minor": 0
      },
      "text/plain": [
       "HTML(value='<style>#ipythontutor1 </style><style>#ipythontutor2 { max-width:750px; max-height:300px; box-sizin…"
      ]
     },
     "metadata": {},
     "output_type": "display_data"
    }
   ],
   "source": [
    "%%ipythontutor heapPrimitives=true\n",
    "# two variables to the same object\n",
    "s1 = 'abc'\n",
    "s2 = s1\n",
    "# we try to modify the object\n",
    "s1 += 'def'\n",
    "# remember to click on `Forward`"
   ]
  },
  {
   "cell_type": "code",
   "execution_count": 3,
   "metadata": {},
   "outputs": [
    {
     "name": "stdout",
     "output_type": "stream",
     "text": [
      "abcdef\n",
      "abc\n"
     ]
    }
   ],
   "source": [
    "# at this stage with strings we observe\n",
    "s1 = 'abc'\n",
    "s2 = s1\n",
    "s1 += 'def'\n",
    "print(s1)\n",
    "print(s2)"
   ]
  },
  {
   "cell_type": "markdown",
   "metadata": {},
   "source": [
    "## Lists are mutable objects\n",
    "\n",
    "Here is what we get by contrast for the same scenario but which this time uses lists, which are mutable objects:"
   ]
  },
  {
   "cell_type": "code",
   "execution_count": 4,
   "metadata": {},
   "outputs": [
    {
     "data": {
      "application/vnd.jupyter.widget-view+json": {
       "model_id": "78d41aac99304d0f85d4257dbe33bb48",
       "version_major": 2,
       "version_minor": 0
      },
      "text/plain": [
       "HTML(value='<style>#ipythontutor3 {transform: translate(-93px, -37px) scale(0.8);}</style><style>#ipythontutor…"
      ]
     },
     "metadata": {},
     "output_type": "display_data"
    }
   ],
   "source": [
    "%%ipythontutor heapPrimitives=true ratio=0.8\n",
    "# two variables to the same object\n",
    "list1 = ['a', 'b', 'c']\n",
    "list2 = list1\n",
    "# we modify the object\n",
    "list1 += ['d', 'e', 'f']\n",
    "# remember to click on `Forward`"
   ]
  },
  {
   "cell_type": "code",
   "execution_count": 5,
   "metadata": {},
   "outputs": [
    {
     "name": "stdout",
     "output_type": "stream",
     "text": [
      "['a', 'b', 'c', 'd', 'e', 'f']\n",
      "['a', 'b', 'c', 'd', 'e', 'f']\n"
     ]
    }
   ],
   "source": [
    "# whereas with lists we observe\n",
    "list1 = ['a', 'b', 'c']\n",
    "list2 = list1\n",
    "# we modify the object\n",
    "list1 += ['d', 'e', 'f']\n",
    "print (list1)\n",
    "print (list2)"
   ]
  },
  {
   "cell_type": "markdown",
   "metadata": {},
   "source": [
    "## Conclusion\n",
    "\n",
    "This behavior is not specific to the use of the += operator, mutable and immutable objects in essence behave differently, it is very important to keep this in mind."
   ]
  },
  {
   "cell_type": "code",
   "execution_count": null,
   "metadata": {},
   "outputs": [],
   "source": []
  }
 ],
 "metadata": {
  "hide_input": false,
  "kernelspec": {
   "display_name": "Python 3",
   "language": "python",
   "name": "python3"
  },
  "language_info": {
   "codemirror_mode": {
    "name": "ipython",
    "version": 3
   },
   "file_extension": ".py",
   "mimetype": "text/x-python",
   "name": "python",
   "nbconvert_exporter": "python",
   "pygments_lexer": "ipython3",
   "version": "3.8.3"
  }
 },
 "nbformat": 4,
 "nbformat_minor": 4
}
